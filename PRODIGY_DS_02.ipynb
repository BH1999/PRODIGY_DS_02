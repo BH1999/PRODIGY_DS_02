{
  "nbformat": 4,
  "nbformat_minor": 0,
  "metadata": {
    "colab": {
      "provenance": []
    },
    "kernelspec": {
      "name": "python3",
      "display_name": "Python 3"
    },
    "language_info": {
      "name": "python"
    }
  },
  "cells": [
    {
      "cell_type": "markdown",
      "source": [
        "Task 2:\n",
        "Perform data cleaning and exploratory data analysis (EDA) on a dataset of your choice, such as the Titanic dataset from Kaggle. Explore the relationships between variables and identify patterns and trends in the data\n"
      ],
      "metadata": {
        "id": "ZNMkUJljKgKD"
      }
    },
    {
      "cell_type": "code",
      "execution_count": 3,
      "metadata": {
        "id": "VADM54ViJJtv"
      },
      "outputs": [],
      "source": [
        "import pandas as pd\n",
        "import seaborn as sns\n",
        "import matplotlib.pyplot as plt\n",
        "\n",
        "# Step 1: Load the CSV file\n",
        "file_path = '/content/train_and_test2.csv'\n",
        "uploaded_data = pd.read_csv(file_path)\n",
        "\n"
      ]
    },
    {
      "cell_type": "code",
      "source": [
        "# Step 2: Display basic information about the dataset\n",
        "uploaded_data_info = uploaded_data.info()\n",
        "uploaded_data_head = uploaded_data.head()\n",
        "\n",
        "print(uploaded_data_info)\n",
        "print(uploaded_data_head)"
      ],
      "metadata": {
        "colab": {
          "base_uri": "https://localhost:8080/"
        },
        "id": "XdQtn7piJ6aq",
        "outputId": "64f7b9e0-9172-47c7-c3e1-a0a80911cd27"
      },
      "execution_count": 4,
      "outputs": [
        {
          "output_type": "stream",
          "name": "stdout",
          "text": [
            "<class 'pandas.core.frame.DataFrame'>\n",
            "RangeIndex: 1309 entries, 0 to 1308\n",
            "Data columns (total 28 columns):\n",
            " #   Column       Non-Null Count  Dtype  \n",
            "---  ------       --------------  -----  \n",
            " 0   Passengerid  1309 non-null   int64  \n",
            " 1   Age          1309 non-null   float64\n",
            " 2   Fare         1309 non-null   float64\n",
            " 3   Sex          1309 non-null   int64  \n",
            " 4   sibsp        1309 non-null   int64  \n",
            " 5   zero         1309 non-null   int64  \n",
            " 6   zero.1       1309 non-null   int64  \n",
            " 7   zero.2       1309 non-null   int64  \n",
            " 8   zero.3       1309 non-null   int64  \n",
            " 9   zero.4       1309 non-null   int64  \n",
            " 10  zero.5       1309 non-null   int64  \n",
            " 11  zero.6       1309 non-null   int64  \n",
            " 12  Parch        1309 non-null   int64  \n",
            " 13  zero.7       1309 non-null   int64  \n",
            " 14  zero.8       1309 non-null   int64  \n",
            " 15  zero.9       1309 non-null   int64  \n",
            " 16  zero.10      1309 non-null   int64  \n",
            " 17  zero.11      1309 non-null   int64  \n",
            " 18  zero.12      1309 non-null   int64  \n",
            " 19  zero.13      1309 non-null   int64  \n",
            " 20  zero.14      1309 non-null   int64  \n",
            " 21  Pclass       1309 non-null   int64  \n",
            " 22  zero.15      1309 non-null   int64  \n",
            " 23  zero.16      1309 non-null   int64  \n",
            " 24  Embarked     1307 non-null   float64\n",
            " 25  zero.17      1309 non-null   int64  \n",
            " 26  zero.18      1309 non-null   int64  \n",
            " 27  2urvived     1309 non-null   int64  \n",
            "dtypes: float64(3), int64(25)\n",
            "memory usage: 286.5 KB\n",
            "None\n",
            "   Passengerid   Age     Fare  Sex  sibsp  zero  zero.1  zero.2  zero.3  \\\n",
            "0            1  22.0   7.2500    0      1     0       0       0       0   \n",
            "1            2  38.0  71.2833    1      1     0       0       0       0   \n",
            "2            3  26.0   7.9250    1      0     0       0       0       0   \n",
            "3            4  35.0  53.1000    1      1     0       0       0       0   \n",
            "4            5  35.0   8.0500    0      0     0       0       0       0   \n",
            "\n",
            "   zero.4  ...  zero.12  zero.13  zero.14  Pclass  zero.15  zero.16  Embarked  \\\n",
            "0       0  ...        0        0        0       3        0        0       2.0   \n",
            "1       0  ...        0        0        0       1        0        0       0.0   \n",
            "2       0  ...        0        0        0       3        0        0       2.0   \n",
            "3       0  ...        0        0        0       1        0        0       2.0   \n",
            "4       0  ...        0        0        0       3        0        0       2.0   \n",
            "\n",
            "   zero.17  zero.18  2urvived  \n",
            "0        0        0         0  \n",
            "1        0        0         1  \n",
            "2        0        0         1  \n",
            "3        0        0         1  \n",
            "4        0        0         0  \n",
            "\n",
            "[5 rows x 28 columns]\n"
          ]
        }
      ]
    },
    {
      "cell_type": "code",
      "source": [
        "# Step 3: Data Cleaning (Example)\n",
        "# Check for missing values\n",
        "missing_values = uploaded_data.isnull().sum()\n",
        "print(missing_values)\n",
        "\n",
        "# Convert categorical variables to category data type if necessary\n",
        "# Example: If 'Sex' and 'Embarked' columns exist\n",
        "if 'Sex' in uploaded_data.columns:\n",
        "    uploaded_data['Sex'] = uploaded_data['Sex'].astype('category')\n",
        "if 'Embarked' in uploaded_data.columns:\n",
        "    uploaded_data['Embarked'] = uploaded_data['Embarked'].astype('category')\n",
        "\n",
        "# Handle duplicates (if any)\n",
        "uploaded_data.drop_duplicates(inplace=True)"
      ],
      "metadata": {
        "colab": {
          "base_uri": "https://localhost:8080/"
        },
        "id": "tA-LfphgJ_nG",
        "outputId": "d96a8d18-37e4-44ff-d077-8f6cd10d6ce9"
      },
      "execution_count": 5,
      "outputs": [
        {
          "output_type": "stream",
          "name": "stdout",
          "text": [
            "Passengerid    0\n",
            "Age            0\n",
            "Fare           0\n",
            "Sex            0\n",
            "sibsp          0\n",
            "zero           0\n",
            "zero.1         0\n",
            "zero.2         0\n",
            "zero.3         0\n",
            "zero.4         0\n",
            "zero.5         0\n",
            "zero.6         0\n",
            "Parch          0\n",
            "zero.7         0\n",
            "zero.8         0\n",
            "zero.9         0\n",
            "zero.10        0\n",
            "zero.11        0\n",
            "zero.12        0\n",
            "zero.13        0\n",
            "zero.14        0\n",
            "Pclass         0\n",
            "zero.15        0\n",
            "zero.16        0\n",
            "Embarked       2\n",
            "zero.17        0\n",
            "zero.18        0\n",
            "2urvived       0\n",
            "dtype: int64\n"
          ]
        }
      ]
    },
    {
      "cell_type": "code",
      "source": [
        "# Step 4: Exploratory Data Analysis (EDA)\n",
        "# Example 1: Plot the distribution of a categorical variable, e.g., 'Survived'\n",
        "if 'Survived' in uploaded_data.columns:\n",
        "    sns.countplot(x='Survived', data=uploaded_data)\n",
        "    plt.title('Survival Count')\n",
        "    plt.show()\n"
      ],
      "metadata": {
        "id": "qvVHkT9AKGNy"
      },
      "execution_count": 6,
      "outputs": []
    },
    {
      "cell_type": "code",
      "source": [
        "# Example 2: Distribution of passengers by class (if 'Pclass' column exists)\n",
        "if 'Pclass' in uploaded_data.columns:\n",
        "    sns.countplot(x='Pclass', data=uploaded_data)\n",
        "    plt.title('Passenger Class Distribution')\n",
        "    plt.show()\n"
      ],
      "metadata": {
        "colab": {
          "base_uri": "https://localhost:8080/",
          "height": 472
        },
        "id": "Vnksf68pKONg",
        "outputId": "eab1ca24-7c3d-4f2c-e73e-aaad52ae3bf1"
      },
      "execution_count": 7,
      "outputs": [
        {
          "output_type": "display_data",
          "data": {
            "text/plain": [
              "<Figure size 640x480 with 1 Axes>"
            ],
            "image/png": "[encoded data removed]"
          },
          "metadata": {}
        }
      ]
    },
    {
      "cell_type": "code",
      "source": [
        "# Example 3: Distribution of passengers by age and survival (if 'Age' and 'Survived' columns exist)\n",
        "if 'Age' in uploaded_data.columns and 'Survived' in uploaded_data.columns:\n",
        "    sns.histplot(data=uploaded_data, x='Age', hue='Survived', multiple='stack')\n",
        "    plt.title('Age Distribution by Survival')\n",
        "    plt.show()\n"
      ],
      "metadata": {
        "id": "ZrF5XmSpKSfl"
      },
      "execution_count": 8,
      "outputs": []
    },
    {
      "cell_type": "code",
      "source": [
        "# Example 4: Survival rate by gender (if 'Sex' and 'Survived' columns exist)\n",
        "if 'Sex' in uploaded_data.columns and 'Survived' in uploaded_data.columns:\n",
        "    sns.countplot(x='Sex', hue='Survived', data=uploaded_data)\n",
        "    plt.title('Survival by Gender')\n",
        "    plt.show()"
      ],
      "metadata": {
        "id": "6nH6ydbIKVgR"
      },
      "execution_count": 9,
      "outputs": []
    },
    {
      "cell_type": "code",
      "source": [
        "# Example 5: Fare distribution (if 'Fare' column exists)\n",
        "if 'Fare' in uploaded_data.columns:\n",
        "    sns.histplot(uploaded_data['Fare'], kde=True)\n",
        "    plt.title('Fare Distribution')\n",
        "    plt.show()"
      ],
      "metadata": {
        "colab": {
          "base_uri": "https://localhost:8080/",
          "height": 472
        },
        "id": "UNisd_GUKbM9",
        "outputId": "62dbf480-57af-4e0d-b226-2d963cf2c44b"
      },
      "execution_count": 10,
      "outputs": [
        {
          "output_type": "display_data",
          "data": {
            "text/plain": [
              "<Figure size 640x480 with 1 Axes>"
            ],
            "image/png": "[encoded data removed]"
          },
          "metadata": {}
        }
      ]
    }
  ]
}